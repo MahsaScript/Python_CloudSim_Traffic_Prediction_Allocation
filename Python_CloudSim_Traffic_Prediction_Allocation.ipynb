{
  "cells": [
    {
      "cell_type": "code",
      "execution_count": null,
      "metadata": {
        "colab": {
          "background_save": true
        },
        "id": "a1e9VNyVH6x1"
      },
      "outputs": [],
      "source": [
        "!pip install PySDNSim"
      ]
    },
    {
      "cell_type": "code",
      "execution_count": null,
      "metadata": {
        "colab": {
          "background_save": true
        },
        "id": "j4WmR0iKI-EX"
      },
      "outputs": [],
      "source": [
        "!sudo apt-get install python dash"
      ]
    },
    {
      "cell_type": "code",
      "execution_count": null,
      "metadata": {
        "colab": {
          "background_save": true
        },
        "id": "VDxGXs1wJIQ_"
      },
      "outputs": [],
      "source": [
        "!sudo pip install dash==0.29.0"
      ]
    },
    {
      "cell_type": "code",
      "execution_count": null,
      "metadata": {
        "colab": {
          "background_save": true
        },
        "id": "EdrBEd3AJOPl"
      },
      "outputs": [],
      "source": [
        "!sudo python -m pip install dash==0.29.0"
      ]
    },
    {
      "cell_type": "code",
      "execution_count": null,
      "metadata": {
        "colab": {
          "background_save": true
        },
        "id": "LKX1jrqHJaI_"
      },
      "outputs": [],
      "source": [
        "!pip install jupyter-dash"
      ]
    },
    {
      "cell_type": "code",
      "execution_count": null,
      "metadata": {
        "colab": {
          "background_save": true
        },
        "id": "QWAwkg8IJxMh"
      },
      "outputs": [],
      "source": [
        "!pip install --upgrade pip wheel setuptools requests"
      ]
    },
    {
      "cell_type": "code",
      "execution_count": null,
      "metadata": {
        "colab": {
          "background_save": true
        },
        "id": "X5Qv__pnKRFy"
      },
      "outputs": [],
      "source": [
        "!python3 -m pip install dash"
      ]
    },
    {
      "cell_type": "code",
      "execution_count": null,
      "metadata": {
        "colab": {
          "background_save": true
        },
        "id": "dbSQMlw9Kopy"
      },
      "outputs": [],
      "source": [
        "!pip install jupyter-dash"
      ]
    },
    {
      "cell_type": "code",
      "execution_count": null,
      "metadata": {
        "colab": {
          "background_save": true
        },
        "id": "UkIgtD8wLZuw"
      },
      "outputs": [],
      "source": [
        "from collections.abc import MutableMapping"
      ]
    },
    {
      "cell_type": "code",
      "execution_count": null,
      "metadata": {
        "colab": {
          "base_uri": "https://localhost:8080/"
        },
        "id": "0l98mQhbLro4",
        "outputId": "e9f80443-a05a-42a2-b169-07f6cdfa3c5c"
      },
      "outputs": [
        {
          "name": "stdout",
          "output_type": "stream",
          "text": [
            "Requirement already satisfied: dash in /usr/local/lib/python3.10/dist-packages (0.29.0)\n",
            "Requirement already satisfied: Flask>=0.12 in /usr/local/lib/python3.10/dist-packages (from dash) (2.2.5)\n",
            "Requirement already satisfied: flask-compress in /usr/local/lib/python3.10/dist-packages (from dash) (1.14)\n",
            "Requirement already satisfied: plotly in /usr/local/lib/python3.10/dist-packages (from dash) (5.15.0)\n",
            "Requirement already satisfied: dash-renderer in /usr/local/lib/python3.10/dist-packages (from dash) (1.9.1)\n",
            "Requirement already satisfied: Werkzeug>=2.2.2 in /usr/local/lib/python3.10/dist-packages (from Flask>=0.12->dash) (3.0.1)\n",
            "Requirement already satisfied: Jinja2>=3.0 in /usr/local/lib/python3.10/dist-packages (from Flask>=0.12->dash) (3.1.3)\n",
            "Requirement already satisfied: itsdangerous>=2.0 in /usr/local/lib/python3.10/dist-packages (from Flask>=0.12->dash) (2.1.2)\n",
            "Requirement already satisfied: click>=8.0 in /usr/local/lib/python3.10/dist-packages (from Flask>=0.12->dash) (8.1.7)\n",
            "Requirement already satisfied: brotli in /usr/local/lib/python3.10/dist-packages (from flask-compress->dash) (1.1.0)\n",
            "Requirement already satisfied: tenacity>=6.2.0 in /usr/local/lib/python3.10/dist-packages (from plotly->dash) (8.2.3)\n",
            "Requirement already satisfied: packaging in /usr/local/lib/python3.10/dist-packages (from plotly->dash) (23.2)\n",
            "Requirement already satisfied: MarkupSafe>=2.0 in /usr/local/lib/python3.10/dist-packages (from Jinja2>=3.0->Flask>=0.12->dash) (2.1.5)\n",
            "\u001b[33mWARNING: Running pip as the 'root' user can result in broken permissions and conflicting behaviour with the system package manager. It is recommended to use a virtual environment instead: https://pip.pypa.io/warnings/venv\u001b[0m\u001b[33m\n",
            "\u001b[0m"
          ]
        }
      ],
      "source": [
        "!python3 -m pip install dash"
      ]
    },
    {
      "cell_type": "code",
      "execution_count": null,
      "metadata": {
        "colab": {
          "base_uri": "https://localhost:8080/"
        },
        "id": "2CuwmRNHL89B",
        "outputId": "44c69896-6715-44b7-bdac-e02861871385"
      },
      "outputs": [
        {
          "name": "stdout",
          "output_type": "stream",
          "text": [
            "Requirement already satisfied: dash in /usr/local/lib/python3.10/dist-packages (0.29.0)\n",
            "Collecting dash\n",
            "  Using cached dash-2.15.0-py3-none-any.whl.metadata (11 kB)\n",
            "Requirement already satisfied: dash-core-components in /usr/local/lib/python3.10/dist-packages (2.0.0)\n",
            "Requirement already satisfied: dash-html-components in /usr/local/lib/python3.10/dist-packages (2.0.0)\n",
            "Requirement already satisfied: dash-renderer in /usr/local/lib/python3.10/dist-packages (1.9.1)\n",
            "Requirement already satisfied: Flask<3.1,>=1.0.4 in /usr/local/lib/python3.10/dist-packages (from dash) (2.2.5)\n",
            "Requirement already satisfied: Werkzeug<3.1 in /usr/local/lib/python3.10/dist-packages (from dash) (3.0.1)\n",
            "Requirement already satisfied: plotly>=5.0.0 in /usr/local/lib/python3.10/dist-packages (from dash) (5.15.0)\n",
            "Requirement already satisfied: dash-table==5.0.0 in /usr/local/lib/python3.10/dist-packages (from dash) (5.0.0)\n",
            "Requirement already satisfied: typing-extensions>=4.1.1 in /usr/local/lib/python3.10/dist-packages (from dash) (4.9.0)\n",
            "Requirement already satisfied: requests in /usr/local/lib/python3.10/dist-packages (from dash) (2.31.0)\n",
            "Requirement already satisfied: retrying in /usr/local/lib/python3.10/dist-packages (from dash) (1.3.4)\n",
            "Requirement already satisfied: nest-asyncio in /usr/local/lib/python3.10/dist-packages (from dash) (1.6.0)\n",
            "Requirement already satisfied: setuptools in /usr/local/lib/python3.10/dist-packages (from dash) (69.1.1)\n",
            "Requirement already satisfied: importlib-metadata in /usr/local/lib/python3.10/dist-packages (from dash) (7.0.1)\n",
            "Requirement already satisfied: Jinja2>=3.0 in /usr/local/lib/python3.10/dist-packages (from Flask<3.1,>=1.0.4->dash) (3.1.3)\n",
            "Requirement already satisfied: itsdangerous>=2.0 in /usr/local/lib/python3.10/dist-packages (from Flask<3.1,>=1.0.4->dash) (2.1.2)\n",
            "Requirement already satisfied: click>=8.0 in /usr/local/lib/python3.10/dist-packages (from Flask<3.1,>=1.0.4->dash) (8.1.7)\n",
            "Requirement already satisfied: tenacity>=6.2.0 in /usr/local/lib/python3.10/dist-packages (from plotly>=5.0.0->dash) (8.2.3)\n",
            "Requirement already satisfied: packaging in /usr/local/lib/python3.10/dist-packages (from plotly>=5.0.0->dash) (23.2)\n",
            "Requirement already satisfied: MarkupSafe>=2.1.1 in /usr/local/lib/python3.10/dist-packages (from Werkzeug<3.1->dash) (2.1.5)\n",
            "Requirement already satisfied: zipp>=0.5 in /usr/local/lib/python3.10/dist-packages (from importlib-metadata->dash) (3.17.0)\n",
            "Requirement already satisfied: charset-normalizer<4,>=2 in /usr/local/lib/python3.10/dist-packages (from requests->dash) (3.3.2)\n",
            "Requirement already satisfied: idna<4,>=2.5 in /usr/local/lib/python3.10/dist-packages (from requests->dash) (3.6)\n",
            "Requirement already satisfied: urllib3<3,>=1.21.1 in /usr/local/lib/python3.10/dist-packages (from requests->dash) (2.0.7)\n",
            "Requirement already satisfied: certifi>=2017.4.17 in /usr/local/lib/python3.10/dist-packages (from requests->dash) (2024.2.2)\n",
            "Requirement already satisfied: six>=1.7.0 in /usr/local/lib/python3.10/dist-packages (from retrying->dash) (1.16.0)\n",
            "Using cached dash-2.15.0-py3-none-any.whl (10.2 MB)\n",
            "Installing collected packages: dash\n",
            "  Attempting uninstall: dash\n",
            "    Found existing installation: dash 0.29.0\n",
            "    Uninstalling dash-0.29.0:\n",
            "      Successfully uninstalled dash-0.29.0\n",
            "Successfully installed dash-2.15.0\n",
            "\u001b[33mWARNING: Running pip as the 'root' user can result in broken permissions and conflicting behaviour with the system package manager. It is recommended to use a virtual environment instead: https://pip.pypa.io/warnings/venv\u001b[0m\u001b[33m\n",
            "\u001b[0m"
          ]
        }
      ],
      "source": [
        "!pip install --upgrade dash dash-core-components dash-html-components dash-renderer"
      ]
    },
    {
      "cell_type": "code",
      "execution_count": null,
      "metadata": {
        "colab": {
          "base_uri": "https://localhost:8080/"
        },
        "id": "3V7ezYKMMe-i",
        "outputId": "3ef4439b-3dc1-4555-feca-29fe14211d6f"
      },
      "outputs": [
        {
          "name": "stdout",
          "output_type": "stream",
          "text": [
            "Found existing installation: dash 2.15.0\n",
            "Uninstalling dash-2.15.0:\n",
            "  Would remove:\n",
            "    /usr/local/bin/dash-generate-components\n",
            "    /usr/local/bin/dash-update-components\n",
            "    /usr/local/bin/renderer\n",
            "    /usr/local/etc/jupyter/nbconfig/notebook.d/dash.json\n",
            "    /usr/local/lib/python3.10/dist-packages/dash-2.15.0.dist-info/*\n",
            "    /usr/local/lib/python3.10/dist-packages/dash/*\n",
            "    /usr/local/share/jupyter/lab/extensions/dash-jupyterlab.tgz\n",
            "    /usr/local/share/jupyter/nbextensions/dash/main.js\n",
            "Proceed (Y/n)? \u001b[31m  ERROR: Operation cancelled by user\u001b[0m\u001b[31m\n",
            "\u001b[0m"
          ]
        }
      ],
      "source": [
        "!pip uninstall dash"
      ]
    },
    {
      "cell_type": "code",
      "execution_count": null,
      "metadata": {
        "colab": {
          "background_save": true,
          "base_uri": "https://localhost:8080/"
        },
        "id": "B_bdvCZLMv-N",
        "outputId": "a0239c3e-2cad-45f6-d490-211521561e43"
      },
      "outputs": [
        {
          "name": "stdout",
          "output_type": "stream",
          "text": [
            "Collecting dash\n",
            "  Downloading dash-2.15.0-py3-none-any.whl (10.2 MB)\n",
            "\u001b[2K     \u001b[90m━━━━━━━━━━━━━━━━━━━━━━━━━━━━━━━━━━━━━━━━\u001b[0m \u001b[32m10.2/10.2 MB\u001b[0m \u001b[31m18.8 MB/s\u001b[0m eta \u001b[36m0:00:00\u001b[0m\n",
            "\u001b[?25hRequirement already satisfied: Flask<3.1,>=1.0.4 in /usr/local/lib/python3.10/dist-packages (from dash) (2.2.5)\n",
            "Requirement already satisfied: Werkzeug<3.1 in /usr/local/lib/python3.10/dist-packages (from dash) (3.0.1)\n",
            "Requirement already satisfied: plotly>=5.0.0 in /usr/local/lib/python3.10/dist-packages (from dash) (5.15.0)\n",
            "Collecting dash-html-components==2.0.0 (from dash)\n",
            "  Downloading dash_html_components-2.0.0-py3-none-any.whl (4.1 kB)\n",
            "Collecting dash-core-components==2.0.0 (from dash)\n",
            "  Downloading dash_core_components-2.0.0-py3-none-any.whl (3.8 kB)\n",
            "Collecting dash-table==5.0.0 (from dash)\n",
            "  Downloading dash_table-5.0.0-py3-none-any.whl (3.9 kB)\n",
            "Requirement already satisfied: typing-extensions>=4.1.1 in /usr/local/lib/python3.10/dist-packages (from dash) (4.9.0)\n",
            "Requirement already satisfied: requests in /usr/local/lib/python3.10/dist-packages (from dash) (2.31.0)\n",
            "Collecting retrying (from dash)\n",
            "  Downloading retrying-1.3.4-py3-none-any.whl (11 kB)\n",
            "Requirement already satisfied: nest-asyncio in /usr/local/lib/python3.10/dist-packages (from dash) (1.6.0)\n",
            "Requirement already satisfied: setuptools in /usr/local/lib/python3.10/dist-packages (from dash) (67.7.2)\n",
            "Requirement already satisfied: importlib-metadata in /usr/local/lib/python3.10/dist-packages (from dash) (7.0.1)\n",
            "Requirement already satisfied: Jinja2>=3.0 in /usr/local/lib/python3.10/dist-packages (from Flask<3.1,>=1.0.4->dash) (3.1.3)\n",
            "Requirement already satisfied: itsdangerous>=2.0 in /usr/local/lib/python3.10/dist-packages (from Flask<3.1,>=1.0.4->dash) (2.1.2)\n",
            "Requirement already satisfied: click>=8.0 in /usr/local/lib/python3.10/dist-packages (from Flask<3.1,>=1.0.4->dash) (8.1.7)\n",
            "Requirement already satisfied: tenacity>=6.2.0 in /usr/local/lib/python3.10/dist-packages (from plotly>=5.0.0->dash) (8.2.3)\n",
            "Requirement already satisfied: packaging in /usr/local/lib/python3.10/dist-packages (from plotly>=5.0.0->dash) (23.2)\n",
            "Requirement already satisfied: MarkupSafe>=2.1.1 in /usr/local/lib/python3.10/dist-packages (from Werkzeug<3.1->dash) (2.1.5)\n",
            "Requirement already satisfied: zipp>=0.5 in /usr/local/lib/python3.10/dist-packages (from importlib-metadata->dash) (3.17.0)\n",
            "Requirement already satisfied: charset-normalizer<4,>=2 in /usr/local/lib/python3.10/dist-packages (from requests->dash) (3.3.2)\n",
            "Requirement already satisfied: idna<4,>=2.5 in /usr/local/lib/python3.10/dist-packages (from requests->dash) (3.6)\n",
            "Requirement already satisfied: urllib3<3,>=1.21.1 in /usr/local/lib/python3.10/dist-packages (from requests->dash) (2.0.7)\n",
            "Requirement already satisfied: certifi>=2017.4.17 in /usr/local/lib/python3.10/dist-packages (from requests->dash) (2024.2.2)\n",
            "Requirement already satisfied: six>=1.7.0 in /usr/local/lib/python3.10/dist-packages (from retrying->dash) (1.16.0)\n",
            "Installing collected packages: dash-table, dash-html-components, dash-core-components, retrying, dash\n",
            "Successfully installed dash-2.15.0 dash-core-components-2.0.0 dash-html-components-2.0.0 dash-table-5.0.0 retrying-1.3.4\n"
          ]
        }
      ],
      "source": [
        "!pip install dash"
      ]
    },
    {
      "cell_type": "code",
      "execution_count": null,
      "metadata": {
        "id": "mdKvXMRaLwx_"
      },
      "outputs": [],
      "source": [
        "#import dash\n",
        "from dash import Dash, Input, Output, dcc, html"
      ]
    },
    {
      "cell_type": "code",
      "execution_count": null,
      "metadata": {
        "colab": {
          "base_uri": "https://localhost:8080/",
          "height": 222
        },
        "id": "StWvmJVPLJpC",
        "outputId": "1ba3f3b3-a255-480b-e9e3-e9b2b0084320"
      },
      "outputs": [
        {
          "ename": "ModuleNotFoundError",
          "evalue": "No module named 'jupyter_dash'",
          "output_type": "error",
          "traceback": [
            "\u001b[0;31m---------------------------------------------------------------------------\u001b[0m",
            "\u001b[0;31mModuleNotFoundError\u001b[0m                       Traceback (most recent call last)",
            "\u001b[0;32m<ipython-input-2-208ff5bc5b00>\u001b[0m in \u001b[0;36m<cell line: 2>\u001b[0;34m()\u001b[0m\n\u001b[1;32m      1\u001b[0m \u001b[0;32mimport\u001b[0m \u001b[0mplotly\u001b[0m\u001b[0;34m.\u001b[0m\u001b[0mexpress\u001b[0m \u001b[0;32mas\u001b[0m \u001b[0mpx\u001b[0m\u001b[0;34m\u001b[0m\u001b[0;34m\u001b[0m\u001b[0m\n\u001b[0;32m----> 2\u001b[0;31m \u001b[0;32mfrom\u001b[0m \u001b[0mjupyter_dash\u001b[0m \u001b[0;32mimport\u001b[0m \u001b[0mJupyterDash\u001b[0m\u001b[0;34m\u001b[0m\u001b[0;34m\u001b[0m\u001b[0m\n\u001b[0m\u001b[1;32m      3\u001b[0m \u001b[0;32mimport\u001b[0m \u001b[0mdash_core_components\u001b[0m \u001b[0;32mas\u001b[0m \u001b[0mdcc\u001b[0m\u001b[0;34m\u001b[0m\u001b[0;34m\u001b[0m\u001b[0m\n\u001b[1;32m      4\u001b[0m \u001b[0;32mimport\u001b[0m \u001b[0mdash_html_components\u001b[0m \u001b[0;32mas\u001b[0m \u001b[0mhtml\u001b[0m\u001b[0;34m\u001b[0m\u001b[0;34m\u001b[0m\u001b[0m\n\u001b[1;32m      5\u001b[0m \u001b[0;32mfrom\u001b[0m \u001b[0mdash\u001b[0m\u001b[0;34m.\u001b[0m\u001b[0mdependencies\u001b[0m \u001b[0;32mimport\u001b[0m \u001b[0mInput\u001b[0m\u001b[0;34m,\u001b[0m \u001b[0mOutput\u001b[0m\u001b[0;34m\u001b[0m\u001b[0;34m\u001b[0m\u001b[0m\n",
            "\u001b[0;31mModuleNotFoundError\u001b[0m: No module named 'jupyter_dash'"
          ]
        }
      ],
      "source": [
        "import plotly.express as px\n",
        "from jupyter_dash import JupyterDash\n",
        "import dash_core_components as dcc\n",
        "import dash_html_components as html\n",
        "from dash.dependencies import Input, Output"
      ]
    },
    {
      "cell_type": "code",
      "execution_count": null,
      "metadata": {
        "id": "NvoonpShN21T"
      },
      "outputs": [],
      "source": [
        "!pip install treelib"
      ]
    },
    {
      "cell_type": "code",
      "execution_count": null,
      "metadata": {
        "id": "IIqYfGbQIsg5"
      },
      "outputs": [],
      "source": [
        "import random\n",
        "from copy import deepcopy\n",
        "from typing import List\n",
        "import pandas as pd\n",
        "import plotly.graph_objects as go\n",
        "import plotly.express as px\n",
        "#import jupyter-dash\n",
        "from dash import Dash, Input, Output, dcc, html\n",
        "from PySDNSim.Backend import Backend\n",
        "from PySDNSim.Config import Config\n",
        "from PySDNSim.Experiment import Experiment\n",
        "from PySDNSim.Host import Host\n",
        "from PySDNSim.Job import Job\n",
        "from PySDNSim.Microservice import Microservice\n",
        "from PySDNSim.NetworkService import NetworkService\n",
        "from PySDNSim.NetworkService import create_network_service\n",
        "from treelib import Node, Tree\n"
      ]
    },
    {
      "cell_type": "markdown",
      "metadata": {
        "id": "Gs9aj4fhIy3E"
      },
      "source": [
        "# create simulation config"
      ]
    },
    {
      "cell_type": "code",
      "execution_count": null,
      "metadata": {
        "id": "d4PN2Ft-I0Xl"
      },
      "outputs": [],
      "source": [
        "sim_config = Config(seed=1024, interval=1.0, step_size=0.01)"
      ]
    },
    {
      "cell_type": "markdown",
      "metadata": {
        "id": "ZwRlLTyoOKs7"
      },
      "source": [
        "# create host"
      ]
    },
    {
      "cell_type": "code",
      "execution_count": null,
      "metadata": {
        "id": "ic8hGKj_OM2C"
      },
      "outputs": [],
      "source": [
        "host = Host(\n",
        "    cpus=64,\n",
        "    ram=102400,\n",
        "    bw=100000,\n",
        "    storage=1024000,\n",
        "    max_power=1600.0,\n",
        "    static_power=300.0,\n",
        "    replicas=3,\n",
        ")"
      ]
    },
    {
      "cell_type": "markdown",
      "metadata": {
        "id": "uFICyU_AOPGC"
      },
      "source": [
        "# Create Microservices"
      ]
    },
    {
      "cell_type": "code",
      "execution_count": null,
      "metadata": {
        "id": "Y8J37WlQOSL0"
      },
      "outputs": [],
      "source": [
        "microservices: List[Microservice] = list()\n",
        "ms_mqtt_broker = Microservice(\n",
        "    name=\"mqtt_broker\",\n",
        "    size=512,\n",
        "    cpus=2,\n",
        "    replicas=1,\n",
        "    max_replicas=3,\n",
        "    cpu_ratio=25,\n",
        "    ram_ratio=32,\n",
        "    bw_ratio=25,\n",
        ")\n",
        "ms_mqtt_broker.add_auto_scale(\"cpu\",0.5)\n",
        "ms_mqtt_broker.add_auto_scale(\"ram\",0.5)\n",
        "ms_mqtt_broker.add_auto_scale(\"bw\",0.5)\n",
        "microservices.append(ms_mqtt_broker)\n",
        "ms_chirpstack_gateway = Microservice(\n",
        "    name=\"chirpstack_gateway\",\n",
        "    size=128,\n",
        "    cpus=2,\n",
        "    replicas=1,\n",
        "    max_replicas=3,\n",
        "    cpu_ratio=25,\n",
        "    ram_ratio=32,\n",
        "    bw_ratio=25,\n",
        ")\n",
        "ms_chirpstack_gateway.add_auto_scale(\"cpu\",0.5)\n",
        "ms_chirpstack_gateway.add_auto_scale(\"ram\",0.5)\n",
        "ms_chirpstack_gateway.add_auto_scale(\"bw\",0.5)\n",
        "microservices.append(ms_chirpstack_gateway)\n",
        "ms_chirpstack = Microservice(\n",
        "    name=\"chirpstack\",\n",
        "    size=128,\n",
        "    cpus=4,\n",
        "    replicas=1,\n",
        "    max_replicas=3,\n",
        "    cpu_ratio=10,\n",
        "    ram_ratio=32,\n",
        "    bw_ratio=25,\n",
        ")\n",
        "ms_chirpstack.add_auto_scale(\"cpu\",0.5)\n",
        "ms_chirpstack.add_auto_scale(\"ram\",0.5)\n",
        "ms_chirpstack.add_auto_scale(\"bw\",0.5)\n",
        "microservices.append(ms_chirpstack)\n",
        "ms_chirpstack_rest_api = Microservice(\n",
        "    name=\"chirpstack_rest_api\",\n",
        "    size=128,\n",
        "    cpus=2,\n",
        "    replicas=1,\n",
        "    max_replicas=3,\n",
        "    cpu_ratio=5,\n",
        "    ram_ratio=128,\n",
        "    bw_ratio=25,\n",
        ")\n",
        "ms_chirpstack_rest_api.add_auto_scale(\"cpu\",0.5)\n",
        "ms_chirpstack_rest_api.add_auto_scale(\"ram\",0.5)\n",
        "ms_chirpstack_rest_api.add_auto_scale(\"bw\",0.5)\n",
        "microservices.append(ms_chirpstack_rest_api)\n",
        "ms_postgresql = Microservice(\n",
        "    name=\"postgresql\",\n",
        "    size=2048,\n",
        "    cpus=2,\n",
        "    replicas=1,\n",
        "    max_replicas=3,\n",
        "    cpu_ratio=50,\n",
        "    ram_ratio=128,\n",
        "    bw_ratio=100,\n",
        ")\n",
        "ms_postgresql.add_auto_scale(\"cpu\",0.5)\n",
        "ms_postgresql.add_auto_scale(\"ram\",0.5)\n",
        "ms_postgresql.add_auto_scale(\"bw\",0.5)\n",
        "microservices.append(ms_postgresql)\n",
        "ms_redis = Microservice(\n",
        "    name=\"redis\",\n",
        "    size=2048,\n",
        "    cpus=2,\n",
        "    replicas=1,\n",
        "    max_replicas=3,\n",
        "    cpu_ratio=50,\n",
        "    ram_ratio=128,\n",
        "    bw_ratio=100,\n",
        ")\n",
        "ms_redis.add_auto_scale(\"cpu\",0.5)\n",
        "ms_redis.add_auto_scale(\"ram\",0.5)\n",
        "ms_redis.add_auto_scale(\"bw\",0.5)\n",
        "microservices.append(ms_redis)"
      ]
    },
    {
      "cell_type": "markdown",
      "metadata": {
        "id": "06Ys4Ry_Oa7r"
      },
      "source": [
        "# Create network services\n"
      ]
    },
    {
      "cell_type": "code",
      "execution_count": null,
      "metadata": {
        "id": "UDglwNSwOfWb"
      },
      "outputs": [],
      "source": [
        "ns_list = list()\n",
        "register_device = create_network_service(\n",
        "    name=\"register_device\",\n",
        "    microservices=[\"chirpstack\", \"redis\", \"chirpstack_gateway\"],\n",
        "    schdeule=[0, 1, 1],\n",
        "    schedule_length=[10, 10, 10],\n",
        "    ms_pool=microservices\n",
        ")\n",
        "ns_list.append(register_device)\n",
        "read_data = create_network_service(\n",
        "    name=\"receive_data\",\n",
        "    microservices=[\"chirpstack_gateway\", \"mqtt_broker\", \"chirpstack\", \"postgresql\"],\n",
        "    schdeule=[0, 1, 2, 3],\n",
        "    schedule_length=[10, 10, 10, 10],\n",
        "    ms_pool=microservices\n",
        ")\n",
        "ns_list.append(read_data)\n",
        "retrive_data = create_network_service(\n",
        "    name=\"retrive_data\",\n",
        "    microservices=[\"chirpstack_rest_api\", \"chirpstack\", \"postgresql\", \"chirpstack\"],\n",
        "    schdeule=[0, 1, 2, 3],\n",
        "    schedule_length=[10, 10, 10, 10],\n",
        "    ms_pool=microservices\n",
        ")\n",
        "ns_list.append(retrive_data)"
      ]
    },
    {
      "cell_type": "markdown",
      "metadata": {
        "id": "u-9s_pA8OhYK"
      },
      "source": [
        "# Start a simulation that randomly select network services at each iteration."
      ]
    },
    {
      "cell_type": "code",
      "execution_count": null,
      "metadata": {
        "colab": {
          "background_save": true
        },
        "id": "u6rnfNeNOq8j",
        "outputId": "ab9b50aa-5843-4d1f-d05c-4915a328980a"
      },
      "outputs": [
        {
          "ename": "ModuleNotFoundError",
          "evalue": "No module named 'PySDNSim'",
          "output_type": "error",
          "traceback": [
            "\u001b[0;31m---------------------------------------------------------------------------\u001b[0m",
            "\u001b[0;31mModuleNotFoundError\u001b[0m                       Traceback (most recent call last)",
            "\u001b[0;32m<ipython-input-5-006efa9f2da1>\u001b[0m in \u001b[0;36m<cell line: 1>\u001b[0;34m()\u001b[0m\n\u001b[0;32m----> 1\u001b[0;31m \u001b[0;32mfrom\u001b[0m \u001b[0mPySDNSim\u001b[0m\u001b[0;34m.\u001b[0m\u001b[0mBackend\u001b[0m \u001b[0;32mimport\u001b[0m \u001b[0mBackend\u001b[0m\u001b[0;34m\u001b[0m\u001b[0;34m\u001b[0m\u001b[0m\n\u001b[0m",
            "\u001b[0;31mModuleNotFoundError\u001b[0m: No module named 'PySDNSim'"
          ]
        }
      ],
      "source": [
        "from PySDNSim.Backend import Backend"
      ]
    },
    {
      "cell_type": "code",
      "execution_count": null,
      "metadata": {
        "colab": {
          "base_uri": "https://localhost:8080/"
        },
        "id": "4dsMx02UQu0V",
        "outputId": "37524700-0248-433e-9241-f3830accb1a8"
      },
      "outputs": [
        {
          "data": {
            "text/plain": [
              "32512"
            ]
          },
          "execution_count": 9,
          "metadata": {},
          "output_type": "execute_result"
        }
      ],
      "source": [
        "import os\n",
        "os.system('start backend.jar')"
      ]
    },
    {
      "cell_type": "code",
      "execution_count": null,
      "metadata": {
        "id": "od1oL_-daTTS"
      },
      "outputs": [],
      "source": [
        "import subprocess\n",
        "subprocess.call(['java', '-jar', 'backend.jar'])"
      ]
    },
    {
      "cell_type": "code",
      "execution_count": null,
      "metadata": {
        "id": "f0L0XXGhOl8S"
      },
      "outputs": [],
      "source": [
        "for iter in range(10):\n",
        "    num_ns = random.randint(1, 20)\n",
        "    chosen_ns: List[NetworkService] = deepcopy(random.choices(ns_list, k=num_ns))\n",
        "    for ns in chosen_ns:\n",
        "        ns.offset_schedule(random.randint(0, 5))\n",
        "    experiment = Experiment(\n",
        "        name=f\"{iter}\",\n",
        "        config=sim_config,\n",
        "        host=host,\n",
        "        microservices=microservices,\n",
        "        network_services=chosen_ns,\n",
        "    )\n",
        "    bk = Backend()\n",
        "    bk.run_experiment(experiment=experiment, output_path=\"results2\")\n",
        "\n",
        "    #Backend.run_experiment(self, experiment=experiment, output_path=\"./results\")\n",
        "    #Backend.run_experiment(self, experiment=experiment, output_path=\"./results\")"
      ]
    },
    {
      "cell_type": "code",
      "execution_count": null,
      "metadata": {
        "colab": {
          "base_uri": "https://localhost:8080/"
        },
        "id": "OjwUg_iezSDF",
        "outputId": "dcbc4e74-fcba-4e47-a1db-edd236e1764d"
      },
      "outputs": [
        {
          "data": {
            "text/plain": [
              "1"
            ]
          },
          "execution_count": 25,
          "metadata": {},
          "output_type": "execute_result"
        }
      ],
      "source": [
        "import subprocess\n",
        "subprocess.call(\n",
        "                        [\n",
        "                            \"java\",\n",
        "                            \"-jar\",\n",
        "                            \"backend.jar\",\n",
        "                            \"./configs/0.json\",\n",
        "                            \"./results/0\",\n",
        "                        ]\n",
        "                    )"
      ]
    },
    {
      "cell_type": "code",
      "execution_count": null,
      "metadata": {
        "colab": {
          "base_uri": "https://localhost:8080/"
        },
        "id": "91Sk7P8oeRvc",
        "outputId": "8ae806f1-3212-43db-897a-cb5d4da7a162"
      },
      "outputs": [
        {
          "name": "stdout",
          "output_type": "stream",
          "text": [
            "openjdk version \"11.0.21\" 2023-10-17\n",
            "OpenJDK Runtime Environment (build 11.0.21+9-post-Ubuntu-0ubuntu122.04)\n",
            "OpenJDK 64-Bit Server VM (build 11.0.21+9-post-Ubuntu-0ubuntu122.04, mixed mode, sharing)\n"
          ]
        }
      ],
      "source": [
        "!java -version"
      ]
    },
    {
      "cell_type": "code",
      "execution_count": null,
      "metadata": {
        "id": "OlBRLdXXecYt"
      },
      "outputs": [],
      "source": [
        "import subprocess\n",
        "cmd=\"java -jar backend.jar edu.stanford.nlp.ie.crf.CRFClassifier -prop prop.txt\"\n",
        "output = subprocess.check_output(cmd)"
      ]
    },
    {
      "cell_type": "code",
      "execution_count": null,
      "metadata": {
        "id": "9wSzkRCvEgMR"
      },
      "outputs": [],
      "source": [
        "import cv2\n",
        "import numpy as np\n",
        "import os\n",
        "from glob import glob\n",
        "from sklearn.decomposition import PCA\n",
        "from sklearn import neighbors\n",
        "from sklearn import preprocessing\n",
        "\n",
        "\n",
        "data = []\n",
        "\n",
        "# Read images from file\n",
        "for filename in glob('Images/*.jpg'):\n",
        "\n",
        "    img = cv2.imread(filename)\n",
        "    height, width = img.shape[:2]\n",
        "    img = np.array(img)\n",
        "\n",
        "    # Check that all my images are of the same resolution\n",
        "    if height == 529 and width == 940:\n",
        "\n",
        "        # Reshape each image so that it is stored in one line\n",
        "        img = np.concatenate(img, axis=0)\n",
        "        img = np.concatenate(img, axis=0)\n",
        "        data.append(img)\n",
        "\n",
        "# Normalise data\n",
        "data = np.array(data)\n",
        "Norm = preprocessing.Normalizer()\n",
        "Norm.fit(data)\n",
        "data = Norm.transform(data)\n",
        "\n",
        "# PCA model\n",
        "pca = PCA(0.95)\n",
        "pca.fit(data)\n",
        "data = pca.transform(data)\n",
        "\n",
        "# K-Nearest neighbours\n",
        "knn = neighbors.NearestNeighbors(n_neighbors=4, algorithm='ball_tree', metric='minkowski').fit(data)\n",
        "distances, indices = knn.kneighbors(data)\n",
        "\n",
        "print(indices)"
      ]
    },
    {
      "cell_type": "code",
      "execution_count": null,
      "metadata": {
        "id": "4YOVM6yaFa45"
      },
      "outputs": [],
      "source": []
    }
  ],
  "metadata": {
    "colab": {
      "provenance": []
    },
    "kernelspec": {
      "display_name": "Python 3",
      "name": "python3"
    },
    "language_info": {
      "name": "python"
    }
  },
  "nbformat": 4,
  "nbformat_minor": 0
}